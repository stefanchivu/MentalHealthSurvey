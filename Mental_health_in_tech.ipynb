{
  "nbformat": 4,
  "nbformat_minor": 0,
  "metadata": {
    "colab": {
      "name": "Mental health in tech.ipynb",
      "provenance": [],
      "collapsed_sections": [
        "LI5NmfcShPkf",
        "akmYVKNEm4Vr",
        "7Bq1fHWY_laP",
        "4DnFQhUB_ykf",
        "o33s5pzAkKYy",
        "6ttJgcYvtnT6"
      ],
      "authorship_tag": "ABX9TyMwDkDyk/bkRnX0ka8MSGNG",
      "include_colab_link": true
    },
    "kernelspec": {
      "name": "python3",
      "display_name": "Python 3"
    },
    "language_info": {
      "name": "python"
    }
  },
  "cells": [
    {
      "cell_type": "markdown",
      "metadata": {
        "id": "view-in-github",
        "colab_type": "text"
      },
      "source": [
        "<a href=\"https://colab.research.google.com/github/stefanchivu/MentalHealthSurvey/blob/main/Mental_health_in_tech.ipynb\" target=\"_parent\"><img src=\"https://colab.research.google.com/assets/colab-badge.svg\" alt=\"Open In Colab\"/></a>"
      ]
    },
    {
      "cell_type": "markdown",
      "source": [
        "# Kaggle import"
      ],
      "metadata": {
        "id": "LI5NmfcShPkf"
      }
    },
    {
      "cell_type": "code",
      "execution_count": null,
      "metadata": {
        "colab": {
          "base_uri": "https://localhost:8080/"
        },
        "id": "_ZcDK4lbTNS6",
        "outputId": "2615f210-eeff-4482-f3b3-e2b5b073258d"
      },
      "outputs": [
        {
          "output_type": "stream",
          "name": "stdout",
          "text": [
            "Downloading mental-health-in-the-tech-industry.zip to /content\n",
            "\r  0% 0.00/1.98M [00:00<?, ?B/s]\n",
            "\r100% 1.98M/1.98M [00:00<00:00, 125MB/s]\n",
            "Archive:  mental-health-in-the-tech-industry.zip\n",
            "  inflating: mental_health.sqlite    \n"
          ]
        }
      ],
      "source": [
        "! mkdir ~/.kaggle\n",
        "! cp kaggle.json ~/.kaggle/\n",
        "! chmod 600 /root/.kaggle/kaggle.json\n",
        "! kaggle datasets download anth7310/mental-health-in-the-tech-industry\n",
        "! unzip mental-health-in-the-tech-industry.zip"
      ]
    },
    {
      "cell_type": "markdown",
      "source": [
        "# Preparation and Functions"
      ],
      "metadata": {
        "id": "CiQ5sknjfytU"
      }
    },
    {
      "cell_type": "code",
      "source": [
        "import sqlite3\n",
        "import pandas as pd\n",
        "import matplotlib.ticker as mtick\n",
        "import matplotlib.pyplot as plt\n",
        "from IPython.display import clear_output\n",
        "import numpy as np\n",
        "from scipy.stats import pearsonr, spearmanr\n",
        "import seaborn as sns\n",
        "from statistics import variance\n",
        "from numpy import random"
      ],
      "metadata": {
        "id": "77uqOCyNUnR3"
      },
      "execution_count": null,
      "outputs": []
    },
    {
      "cell_type": "code",
      "source": [
        "connection = sqlite3.connect('mental_health.sqlite')\n",
        "cursor = connection.cursor()"
      ],
      "metadata": {
        "id": "dPSiK5QiVM3-"
      },
      "execution_count": null,
      "outputs": []
    },
    {
      "cell_type": "code",
      "source": [
        "df_questions = pd.read_sql_query(\"SELECT * FROM Question\", connection)\n",
        "df_questions.set_index(\"questionid\", inplace=True)\n",
        "ser_questions = df_questions.squeeze()"
      ],
      "metadata": {
        "id": "fhFWEst2Nd9A"
      },
      "execution_count": null,
      "outputs": []
    },
    {
      "cell_type": "code",
      "source": [
        "dict_questions = dict(zip(list(ser_questions.index), list(ser_questions)))"
      ],
      "metadata": {
        "id": "lKwihFiHWaMn"
      },
      "execution_count": null,
      "outputs": []
    },
    {
      "cell_type": "code",
      "source": [
        "def create_df(year:str, \n",
        "              cursor:sqlite3.Cursor, \n",
        "              connection:sqlite3.Connection\n",
        "              ) -> pd.DataFrame:\n",
        "  '''\n",
        "  Extracts the data corresponding to a given year from mental_health.sqlite to \n",
        "  a dataframe and it returns it\n",
        "  '''\n",
        "\n",
        "  # list all question's IDs for that given year:\n",
        "  cursor.execute(f'SELECT DISTINCT QuestionID \\\n",
        "                   FROM Answer \\\n",
        "                   WHERE SurveyID = {year}')\n",
        "  questions = cursor.fetchall()\n",
        "\n",
        "  df = pd.DataFrame()\n",
        "\n",
        "  # joins the ansewrs to the questions into a big dataframe\n",
        "  for question in questions:\n",
        "    df_q = pd.read_sql_query(f'SELECT UserID, \\\n",
        "                               AnswerText AS Answer{question[0]} \\\n",
        "                               FROM Answer \\\n",
        "                               WHERE SurveyID = {year} \\\n",
        "                               AND QuestionID={question[0]}',\n",
        "                            connection)\n",
        "    df_q.set_index('UserID', inplace=True)\n",
        "    df = df.join(df_q, how='right')\n",
        "  \n",
        "  return df"
      ],
      "metadata": {
        "id": "zvaNcJk5GE0r"
      },
      "execution_count": null,
      "outputs": []
    },
    {
      "cell_type": "code",
      "source": [
        "def percentify(df:pd.DataFrame, questionID:int) -> pd.Series:\n",
        "  return df[f'Answer{questionID}'].value_counts() / len(df.index) * 100\n"
      ],
      "metadata": {
        "id": "faaLEjPDgVxm"
      },
      "execution_count": null,
      "outputs": []
    },
    {
      "cell_type": "code",
      "source": [
        "def multi_rowify(text:str, max_lenght:int=55):\n",
        "  '''\n",
        "  Parses a text on multiple rows\n",
        "  '''\n",
        "  text = text.split(\" \")\n",
        "  lenght = -1\n",
        "\n",
        "  for i, word in enumerate(text):\n",
        "    lenght += len(word) + 1\n",
        "    if lenght > max_lenght:\n",
        "      lenght = 0\n",
        "      text[i] = \"\\n\" + word\n",
        "  \n",
        "  text = ' '.join(text)\n",
        "  \n",
        "  return text"
      ],
      "metadata": {
        "id": "l2yEus_hvpgL"
      },
      "execution_count": null,
      "outputs": []
    },
    {
      "cell_type": "code",
      "source": [
        "def question_bar_plot(df:pd.DataFrame, questionID:int,\n",
        "                      year=\"\", rot:bool=False,\n",
        "                      sensitivity:float=1.0):\n",
        "  '''\n",
        "  Plots a bar plot based on the ID of the question\n",
        "  '''\n",
        "  year = ' (' + str(year) + ')'\n",
        "  title = dict_questions[questionID]+year\n",
        "  title = multi_rowify(title)\n",
        "\n",
        "  percent_answ = percentify(df, questionID)\n",
        "  sum_other = percent_answ[percent_answ < sensitivity].sum()\n",
        "  percent_answ = percent_answ[percent_answ >= sensitivity]\n",
        "\n",
        "  list_of_categories = list(percent_answ.index)\n",
        "\n",
        "  if sum_other > 0.0:\n",
        "    percent_answ['Other'] = sum_other \n",
        "                       \n",
        "  ax = percent_answ.plot(kind='bar', rot=0+90*rot, \n",
        "                         title=title);\n",
        "  \n",
        "  ax.yaxis.set_major_formatter(mtick.PercentFormatter())\n",
        "\n",
        "  plt.show()\n",
        "\n",
        "  return list_of_categories"
      ],
      "metadata": {
        "id": "ucfnuUeLPfd_"
      },
      "execution_count": null,
      "outputs": []
    },
    {
      "cell_type": "code",
      "source": [
        "def question_bar_plot_grouped(df:pd.DataFrame, questionID0:int, questionID1:int,\n",
        "                              year=\"\", rot:bool=False,\n",
        "                              sensitivity0:float=5.0, sensitivity1:float=5.0,\n",
        "                              additional_info:str=\"\",\n",
        "                              below=[],\n",
        "                              legend=[]\n",
        "                              ):\n",
        "  '''\n",
        "  Plots a grouped bar plot based on two IDs of the questions\n",
        "  '''\n",
        "  title = dict_questions[questionID0]\n",
        "  sub_title = dict_questions[questionID1]\n",
        "  title = multi_rowify(title) + '\\n' + multi_rowify(sub_title)\n",
        "  if additional_info:\n",
        "    title += '\\n' + multi_rowify(additional_info)\n",
        "\n",
        "  percent_answ0 =  percentify(df, questionID0)\n",
        "  percent_answ0 = percent_answ0[percent_answ0 >= sensitivity0]\n",
        "  categories = list(percent_answ0.index.unique())\n",
        "\n",
        "  df_result = pd.DataFrame()\n",
        "\n",
        "  for x in categories:\n",
        "    df_aux = df[df[f'Answer{questionID0}'] == x]\n",
        "    percent_answ1 = percentify(df_aux, questionID1)\n",
        "    percent_answ1 = percent_answ1[percent_answ1 >= sensitivity1]\n",
        "    df_result = pd.concat([df_result, percent_answ1], axis=1)\n",
        "  \n",
        "  df_result.columns = categories\n",
        "  df_result = df_result.transpose()\n",
        "\n",
        "  if below:\n",
        "    df_result.index = below\n",
        "  if legend:\n",
        "    df_result.columns = legend\n",
        "  \n",
        "  ax = df_result.plot(kind='bar',\n",
        "                      rot=0+90*rot,\n",
        "                      title=title)\n",
        "                         \n",
        "  ax.yaxis.set_major_formatter(mtick.PercentFormatter())\n",
        "  plt.show()\n",
        "  return df_result"
      ],
      "metadata": {
        "id": "aTgSFFEKTUQn"
      },
      "execution_count": null,
      "outputs": []
    },
    {
      "cell_type": "code",
      "source": [
        "def bar_plot_interactive(df:pd.DataFrame, questionID:int,\n",
        "                       year=\"\"):\n",
        "  '''\n",
        "  Interactive function. You can choose a category to focus on and see the\n",
        "  repartition for a chosen question\n",
        "  '''\n",
        "  list_of_categories = question_bar_plot(df, questionID, year, rot=True)\n",
        "\n",
        "  while True:\n",
        "    category = input(\"What category would you like to explore:\")\n",
        "\n",
        "    if category == \"exit\":\n",
        "      return None\n",
        "    \n",
        "    next_question = int(input(\"What question?\"))\n",
        "\n",
        "    if category in list_of_categories:\n",
        "      df = df[df[f'Answer{questionID}'] == category]\n",
        "      break\n",
        "    \n",
        "    else:\n",
        "      print(\"Not in list of categories!\")\n",
        "\n",
        "  clear_output()\n",
        "\n",
        "  bar_plot_interactive(df, next_question, year)"
      ],
      "metadata": {
        "id": "oHyFZK_o6qUG"
      },
      "execution_count": null,
      "outputs": []
    },
    {
      "cell_type": "code",
      "source": [
        "df_2014 = create_df(2014, cursor, connection)\n",
        "df_2016 = create_df(2016, cursor, connection)\n",
        "df_2017 = create_df(2017, cursor, connection)"
      ],
      "metadata": {
        "id": "SCsDsoP6evZE"
      },
      "execution_count": null,
      "outputs": []
    },
    {
      "cell_type": "markdown",
      "source": [
        "# Introduction"
      ],
      "metadata": {
        "id": "sjEVUtsqoL_X"
      }
    },
    {
      "cell_type": "markdown",
      "source": [
        "Inclusivity of all kinds is important for the well functioning of a company, both for having a larger pool from which you attract talent and for the benefits of a diverse workforce. \n",
        "<br>\n",
        "In this research I focused on neuro-inclusivity. There is evidence that neuro-inclusivity is not only the right thing to do, but is also a good business strategy, as research shows that neuro-diverse teams are more creative and less susceptible to errors."
      ],
      "metadata": {
        "id": "N-z5EcJNvCJp"
      }
    },
    {
      "cell_type": "markdown",
      "source": [
        "# Insights"
      ],
      "metadata": {
        "id": "_QO2hPHmf73Z"
      }
    },
    {
      "cell_type": "markdown",
      "source": [
        "## I. Overview"
      ],
      "metadata": {
        "id": "akmYVKNEm4Vr"
      }
    },
    {
      "cell_type": "code",
      "source": [
        "question_bar_plot(df_2016, 2, 2016);"
      ],
      "metadata": {
        "colab": {
          "base_uri": "https://localhost:8080/",
          "height": 281
        },
        "id": "1povqFXanNlq",
        "outputId": "d81bc110-98da-44c8-9388-0cd8c0be5e7e"
      },
      "execution_count": null,
      "outputs": [
        {
          "output_type": "display_data",
          "data": {
            "text/plain": [
              "<Figure size 432x288 with 1 Axes>"
            ],
            "image/png": "[encoded data removed]"
          },
          "metadata": {
            "needs_background": "light"
          }
        }
      ]
    },
    {
      "cell_type": "code",
      "source": [
        "question_bar_plot(df_2016, 3, 2016, True);"
      ],
      "metadata": {
        "colab": {
          "base_uri": "https://localhost:8080/",
          "height": 396
        },
        "id": "LP9-fjqVnWNp",
        "outputId": "ab6d3ea5-2cd1-4646-c20f-9f11a8e5c6e6"
      },
      "execution_count": null,
      "outputs": [
        {
          "output_type": "display_data",
          "data": {
            "text/plain": [
              "<Figure size 432x288 with 1 Axes>"
            ],
            "image/png": "[encoded data removed]"
          },
          "metadata": {
            "needs_background": "light"
          }
        }
      ]
    },
    {
      "cell_type": "code",
      "source": [
        "bar_plot_interactive(df_2016, 3, 2016)"
      ],
      "metadata": {
        "id": "XYqj7HnHnlcl"
      },
      "execution_count": null,
      "outputs": []
    },
    {
      "cell_type": "markdown",
      "source": [
        "## II. Gender and Mental Disorders in Tech"
      ],
      "metadata": {
        "id": "V9FfvlTCsgA_"
      }
    },
    {
      "cell_type": "code",
      "source": [
        "question_bar_plot_grouped(df_2016, 2, 34, 2016, False);"
      ],
      "metadata": {
        "colab": {
          "base_uri": "https://localhost:8080/",
          "height": 311
        },
        "id": "zTzBZtVdhygC",
        "outputId": "268ce740-4dae-4ff7-c9f9-f0dc6d9cad8b"
      },
      "execution_count": null,
      "outputs": [
        {
          "output_type": "display_data",
          "data": {
            "text/plain": [
              "<Figure size 432x288 with 1 Axes>"
            ],
            "image/png": "[encoded data removed]"
          },
          "metadata": {
            "needs_background": "light"
          }
        }
      ]
    },
    {
      "cell_type": "markdown",
      "source": [
        "We see that half of men are diagnosed with a mental disorder while a majority of women are.\n",
        "<br>\n",
        "However, this could be explained by sample bias. While our target population is people working in tech, this survey was done using voluntary participation, so it makes sense that people with mental disorders are going to be more interested in this survey.\n",
        "<br>\n",
        "On top of this, if we think that men are more likely to answer this survey, we can be in a situation akin to\n",
        "<a href =https://en.wikipedia.org/wiki/Berkson%27s_paradox>The Berkson's Paradox</a>,\n",
        "where there is an illusory anti-correlation between variables which are selected for."
      ],
      "metadata": {
        "id": "UnMugubVoczD"
      }
    },
    {
      "cell_type": "markdown",
      "source": [
        "As a way to validate this discrepancy, I will look at the family histories of men and women."
      ],
      "metadata": {
        "id": "HyGhGoRr5gui"
      }
    },
    {
      "cell_type": "code",
      "source": [
        "question_bar_plot_grouped(df_2016, 2, 6, 2016, False);"
      ],
      "metadata": {
        "colab": {
          "base_uri": "https://localhost:8080/",
          "height": 296
        },
        "id": "l_4JzMNRiwW0",
        "outputId": "f39edfad-9211-4ac9-efe9-820d2d8d24b5"
      },
      "execution_count": null,
      "outputs": [
        {
          "output_type": "display_data",
          "data": {
            "text/plain": [
              "<Figure size 432x288 with 1 Axes>"
            ],
            "image/png": "[encoded data removed]"
          },
          "metadata": {
            "needs_background": "light"
          }
        }
      ]
    },
    {
      "cell_type": "markdown",
      "source": [
        "We also see a big difference in their family history. This makes sense, as mental disorders can be transmited both through genes and through environment.\n",
        "<br>\n",
        "In the general population, those distributions would be the same, so it must be that this sample is an atypical one or that men or women give biased answers or a little of both."
      ],
      "metadata": {
        "id": "6HryXW8tlchS"
      }
    },
    {
      "cell_type": "code",
      "source": [
        "question_bar_plot_grouped(df_2016, 6, 34, 2016, False,\n",
        "                          below=[\"Family History\", \"No Family History\", \"I don't know\"],\n",
        "                          legend=[\"Diagnosed\", \"Not Diagnosed\"]\n",
        "                          );"
      ],
      "metadata": {
        "colab": {
          "base_uri": "https://localhost:8080/",
          "height": 311
        },
        "id": "Ts9H9_GD9Mby",
        "outputId": "08136aff-ecc5-42ec-f3e6-d36be9297fca"
      },
      "execution_count": null,
      "outputs": [
        {
          "output_type": "display_data",
          "data": {
            "text/plain": [
              "<Figure size 432x288 with 1 Axes>"
            ],
            "image/png": "[encoded data removed]"
          },
          "metadata": {
            "needs_background": "light"
          }
        }
      ]
    },
    {
      "cell_type": "markdown",
      "source": [
        "As expected, we see a correlation between being diagnosed with a mental disorder and having a family history of mental illness."
      ],
      "metadata": {
        "id": "lq3ClQMeqJZP"
      }
    },
    {
      "cell_type": "markdown",
      "source": [
        "### Hypothetical model"
      ],
      "metadata": {
        "id": "21-xMqyT_IT-"
      }
    },
    {
      "cell_type": "markdown",
      "source": [
        "Since ancient times, madness, creativity and unconventionality were seen as related. To qoute Plato: \"Madness can be a divine release of the soul from the yoke of custom and convention\".\n",
        "<br>\n",
        "Modern research also suggests there is a link between mental disorders and creativity.\n",
        "<br>\n",
        "Also, within our societies, people who act contrary to stereotypes experience negative social consequences.[[1]](#1) I find it intuitive, then, to speculate that creative people will act and think less in line with those stereotypes, as it is generally harder for them to fit into societal expectations.\n",
        "<br>\n",
        "Specifically, in our case, gender stereotypes could affect the decision to enter and prepare for a tech job. This should be moderated by creativity, which, through it's association with mental disorders, could explain the discrepancy in mental health between males and females in tech."
      ],
      "metadata": {
        "id": "VtRTdoQwwceS"
      }
    },
    {
      "cell_type": "markdown",
      "source": [
        "* <font color='E66478'> Observed </font>\n",
        "* <font color='6CA6C1'> Unobserved </font>"
      ],
      "metadata": {
        "id": "1P2hVxn-1fcf"
      }
    },
    {
      "cell_type": "markdown",
      "source": [
        "![picture](https://drive.google.com/uc?id=1HVSDwxa7VHuWhbJoyi9j5iIGR_TSZ2Mk)\n"
      ],
      "metadata": {
        "id": "u915riKVwJjk"
      }
    },
    {
      "cell_type": "markdown",
      "source": [
        "\\* Within Shared Vulnerability Model, genes that cause greater creativity also cause greater risk of mental illness. It is only the variation in this cluster of genes which is captured by the \"Genes\" variable. Only the genes that are not within sex chromosomes are taken into account."
      ],
      "metadata": {
        "id": "vMHmLnkRU_oO"
      }
    },
    {
      "cell_type": "markdown",
      "source": [
        "\\**\n",
        "<br>\n",
        "* Internalized male stereotypes = -1\n",
        "* Internalized female stereotypes = +1\n",
        "* No internalization = 0\n",
        "* Weaker internalization is closer to zero\n",
        "* Higher creativity leads to weaker internalization\n",
        "\n",
        "\n"
      ],
      "metadata": {
        "id": "b7Fc2b0adbkb"
      }
    },
    {
      "cell_type": "markdown",
      "source": [
        "![picture](https://drive.google.com/uc?id=1mMpgnv4a-Qa93TNTfpJ6n9aFkuYgSwlQ)"
      ],
      "metadata": {
        "id": "1XGytpT3gecG"
      }
    },
    {
      "cell_type": "markdown",
      "source": [
        "#### Sources:"
      ],
      "metadata": {
        "id": "7Bq1fHWY_laP"
      }
    },
    {
      "cell_type": "markdown",
      "source": [
        "<a name=\"1\"></a>\n",
        "[1] \n",
        "<a href=https://www.researchgate.net/publication/8408812_Reactions_to_Counterstereotypic_Behavior_The_Role_of_Backlash_in_Cultural_Stereotype_Maintenance>\n",
        "Reactions to Counterstereotypic Behavior: The Role of Backlash in Cultural Stereotype Maintenance\n",
        "</a>"
      ],
      "metadata": {
        "id": "O62iEFv8KgVN"
      }
    },
    {
      "cell_type": "markdown",
      "source": [
        "Genes -> Creativity, Genes -> Mental Disorders:\n",
        "<br>\n",
        "<a name=\"2\"></a>\n",
        "[2]\n",
        "<a href=https://scottbarrykaufman.com/wp-content/uploads/2013/10/Carson-IR.pdf> Creativity and Psychopathology: A Shared Vulnerability Model </a>"
      ],
      "metadata": {
        "id": "ieyNU2_6Gb5W"
      }
    },
    {
      "cell_type": "markdown",
      "source": [
        "Creativity -> Internalized Gender Stereotypes (moderation):\n",
        "<br>\n",
        "<a name=\"3\"></a>\n",
        "[3]\n",
        "<a href=https://www.ingentaconnect.com/content/sbp/sbp/2000/00000028/00000005/art00002> Psychological Androginy and Creativity </a>\n",
        "<br>\n",
        "Study determined correlation, but not causation"
      ],
      "metadata": {
        "id": "5p_GBpNJgtYK"
      }
    },
    {
      "cell_type": "markdown",
      "source": [
        "Internalized Gender Stereotypes -> Carrer Choice:\n",
        "<br>\n",
        "<a name=\"4\"></a>\n",
        "[4]\n",
        "<a href=https://link.springer.com/article/10.1007/BF01551499>\n",
        "Influence of maternal gender-role beliefs and role satisfaction on daughters' vocational interests"
      ],
      "metadata": {
        "id": "H5PeedvHp5QZ"
      }
    },
    {
      "cell_type": "markdown",
      "source": [
        "#### Controlling for mental disorders (FH -> MD -> FinT)"
      ],
      "metadata": {
        "id": "4DnFQhUB_ykf"
      }
    },
    {
      "cell_type": "markdown",
      "source": [
        "I will investigate the relationship between family history and gender by controlling for mental disorders. I will group the results into people with and without mental disorder. I expect, according to my model, that there will still be an unexplained relationship."
      ],
      "metadata": {
        "id": "Ix425a7cZXVC"
      }
    },
    {
      "cell_type": "code",
      "source": [
        "df_mi_2016 = df_2016[df_2016[\"Answer34\"] == \"Yes\"]\n",
        "df_no_mi_2016 = df_2016[df_2016[\"Answer34\"] == \"No\"]"
      ],
      "metadata": {
        "id": "goXb8Hq89hK_"
      },
      "execution_count": null,
      "outputs": []
    },
    {
      "cell_type": "code",
      "source": [
        "question_bar_plot_grouped(df_mi_2016, 2, 6, 2016, False, \n",
        "                          additional_info=\"(Only people with a mental disorder)\");"
      ],
      "metadata": {
        "colab": {
          "base_uri": "https://localhost:8080/"
        },
        "id": "Y38iNDkV9_Rh",
        "outputId": "07820fa0-ee5a-4625-ab2a-caa444e97c12"
      },
      "execution_count": null,
      "outputs": [
        {
          "output_type": "display_data",
          "data": {
            "text/plain": [
              "<Figure size 432x288 with 1 Axes>"
            ],
            "image/png": "[encoded data removed]"
          },
          "metadata": {
            "needs_background": "light"
          }
        }
      ]
    },
    {
      "cell_type": "code",
      "source": [
        "question_bar_plot_grouped(df_no_mi_2016, 2, 6, 2016, False,\n",
        "                          additional_info=\"(Only people without a mental disorder)\");"
      ],
      "metadata": {
        "colab": {
          "base_uri": "https://localhost:8080/"
        },
        "id": "GWsTJkat-T7Y",
        "outputId": "90dc5247-b2db-46b4-da0b-74cb5f66219c"
      },
      "execution_count": null,
      "outputs": [
        {
          "output_type": "display_data",
          "data": {
            "text/plain": [
              "<Figure size 432x288 with 1 Axes>"
            ],
            "image/png": "[encoded data removed]"
          },
          "metadata": {
            "needs_background": "light"
          }
        }
      ]
    },
    {
      "cell_type": "markdown",
      "source": [
        "We see that the difference between men and women in family history persists. So it still needs an explanation. This is evidence that The Berkson's Paradox doesn't fully explain the discrepancy in mental disorders between men and women."
      ],
      "metadata": {
        "id": "HxeUFwk4aSGB"
      }
    },
    {
      "cell_type": "markdown",
      "source": [
        "#### Heritability as an indication of causation"
      ],
      "metadata": {
        "id": "o33s5pzAkKYy"
      }
    },
    {
      "cell_type": "markdown",
      "source": [
        "We can study the relation between overrepresentation and heritability of a disorder in order to get a sense of the causal relationship between mental disorders and women in tech.\n",
        "<br>\n",
        "We have three posibilities:\n",
        "<br>\n",
        "1. Working in tech increases the risk for mental disorders in womem (FinT -> MD)\n",
        "<br>\n",
        "We expect negative correlation\n",
        "2. Mental disorders increase the likelihood for women to go into tech (MD -> FinT)\n",
        "<br>\n",
        "We expect no correlation\n",
        "3. Common factor - endorsed by my model (MD <- Genes -> FinT)\n",
        "<br>\n",
        "We expect positive correlation"
      ],
      "metadata": {
        "id": "Q_Qg6W4OuoJ1"
      }
    },
    {
      "cell_type": "markdown",
      "source": [
        "I find 1. and 2. to be unlikely and 3. to be most likely. \n",
        "<br>\n",
        "However,\n",
        "<a href=https://www.thetechedvocate.org/what-fewer-women-in-stem-means-for-their-mental-health/>this</a> persuasive article presents a way in which underrepresantation of women in tech leads to mental health problems, so a type 1 scenario.\n",
        "<br>\n",
        "Let's see what the data says!"
      ],
      "metadata": {
        "id": "Szg0qLdj0RfL"
      }
    },
    {
      "cell_type": "code",
      "source": [
        "#@title\n",
        "\n",
        "names = [\"anxiety\", \"adhd\" , \"ocd\", \"mood\" ,\"ptsd\" ,\"personality\"]\n",
        "over = np.array([0.44, 2.05, 0.48, 0.61, 0.18, 1.11])\n",
        "her = np.array([35, 70, 47, 41.1, 20, 29.6])"
      ],
      "metadata": {
        "cellView": "form",
        "id": "0gN-PLwInCMK"
      },
      "execution_count": null,
      "outputs": []
    },
    {
      "cell_type": "code",
      "source": [
        "#@title\n",
        "\n",
        "ax = sns.regplot(her, over, ci=None)\n",
        "\n",
        "plt.title('Heritability vs. Overrepresentation(log)')\n",
        "# Set x-axis label\n",
        "plt.xlabel('Heritabillity')\n",
        "# Set y-axis label\n",
        "plt.ylabel('Overrepresentation(log)')\n",
        "\n",
        "\n",
        "def label_point(x, y, val, ax):\n",
        "    for i in range(len(val)):\n",
        "        ax.text(x[i]+.04, y[i]+.01, str(val[i]))\n",
        "\n",
        "label_point(her, over, names, plt.gca()) "
      ],
      "metadata": {
        "colab": {
          "base_uri": "https://localhost:8080/",
          "height": 350
        },
        "cellView": "form",
        "id": "Xq1pLZbtn7Qj",
        "outputId": "776f192a-11bd-4281-ea15-473dba30b16b"
      },
      "execution_count": null,
      "outputs": [
        {
          "output_type": "stream",
          "name": "stderr",
          "text": [
            "/usr/local/lib/python3.7/dist-packages/seaborn/_decorators.py:43: FutureWarning: Pass the following variables as keyword args: x, y. From version 0.12, the only valid positional argument will be `data`, and passing other arguments without an explicit keyword will result in an error or misinterpretation.\n",
            "  FutureWarning\n"
          ]
        },
        {
          "output_type": "display_data",
          "data": {
            "text/plain": [
              "<Figure size 432x288 with 1 Axes>"
            ],
            "image/png": "[encoded data removed]"
          },
          "metadata": {
            "needs_background": "light"
          }
        }
      ]
    },
    {
      "cell_type": "markdown",
      "source": [
        "Heritability and overrepresentation of women seem correlated. I will further study the statistical significance of this apparent relation."
      ],
      "metadata": {
        "id": "BXT2gIgd9kgf"
      }
    },
    {
      "cell_type": "code",
      "source": [
        "#@title\n",
        "result = pearsonr(her, over)\n",
        "print('Pearson Test:')\n",
        "print(f'r: {result[0]:.3f}')\n",
        "print(f'one-tailed p value: {result[1]/2*100:.2f}%')"
      ],
      "metadata": {
        "colab": {
          "base_uri": "https://localhost:8080/"
        },
        "id": "RLxfOlP1CeGj",
        "outputId": "d6aa6290-4027-46ff-e2ce-30346378e470",
        "cellView": "form"
      },
      "execution_count": null,
      "outputs": [
        {
          "output_type": "stream",
          "name": "stdout",
          "text": [
            "Pearson Test:\n",
            "r: 0.786\n",
            "one-tailed p value: 3.19%\n"
          ]
        }
      ]
    },
    {
      "cell_type": "markdown",
      "source": [
        "An assumption of Pearson Test is that variables are normally distributed. In our case the x variable (Heritability) can only take values between 0 and 100. Also, the y variable has unequal errors, as there is a different number of persons which have each mental disorder. This suggests that a weighted correlation test is necessary.\n",
        "<br>\n",
        "I conclude that it's likely that the normality assumption is not satisfied."
      ],
      "metadata": {
        "id": "rQBKPdw86twU"
      }
    },
    {
      "cell_type": "markdown",
      "source": [
        "The Spearman Test has more minimal assumptions. However, the fact that only takes into consideration the ordering of the data points, it's vulnerable to false negatives."
      ],
      "metadata": {
        "id": "DfdyngTB-2SN"
      }
    },
    {
      "cell_type": "code",
      "source": [
        "#@title\n",
        "\n",
        "result = spearmanr(her, over)\n",
        "\n",
        "print('Spearman Test:')\n",
        "print(f'r: {result[0]:.3f}')\n",
        "print(f'one-tailed p value: {result[1]/2*100:.2f}%')"
      ],
      "metadata": {
        "colab": {
          "base_uri": "https://localhost:8080/"
        },
        "id": "P53TSeeGl76S",
        "outputId": "904dfa83-795b-4e3b-9d61-9bff9e783dbc",
        "cellView": "form"
      },
      "execution_count": null,
      "outputs": [
        {
          "output_type": "stream",
          "name": "stdout",
          "text": [
            "Spearman Test:\n",
            "r: 0.600\n",
            "one-tailed p value: 10.40%\n"
          ]
        }
      ]
    },
    {
      "cell_type": "markdown",
      "source": [
        "##### Code for 3rd validation"
      ],
      "metadata": {
        "id": "6ttJgcYvtnT6"
      }
    },
    {
      "cell_type": "code",
      "source": [
        "n_females = df_2016[df_2016[\"Answer2\"] == \"Female\"].shape[0]\n",
        "n_males = df_2016[df_2016[\"Answer2\"] == \"Male\"].shape[0]"
      ],
      "metadata": {
        "id": "LIumvgA606kN"
      },
      "execution_count": null,
      "outputs": []
    },
    {
      "cell_type": "code",
      "source": [
        "def m(x, w):\n",
        "    \"\"\"Weighted Mean\"\"\"\n",
        "    return np.sum(x * w) / np.sum(w)\n",
        "\n",
        "def cov(x, y, w):\n",
        "    \"\"\"Weighted Covariance\"\"\"\n",
        "    return np.sum(w * (x - m(x, w)) * (y - m(y, w))) / np.sum(w)\n",
        "\n",
        "def corr(x, y, w):\n",
        "    \"\"\"Weighted Correlation\"\"\"\n",
        "    divided = cov(x, y, w)\n",
        "    divisor = np.sqrt(cov(x, x, w) * cov(y, y, w))\n",
        "    if divisor == 0:\n",
        "      if divided >= 0:\n",
        "        return 1\n",
        "      else:\n",
        "        return -1\n",
        "    return divided / divisor"
      ],
      "metadata": {
        "id": "tunHUMBX_1_Y"
      },
      "execution_count": null,
      "outputs": []
    },
    {
      "cell_type": "code",
      "source": [
        "def weighted_variance(values, weights):\n",
        "  average = np.average(values, weights=weights)\n",
        "  return np.average((values-average)**2, weights=weights)"
      ],
      "metadata": {
        "id": "aP8Qv2rLUlhh"
      },
      "execution_count": null,
      "outputs": []
    },
    {
      "cell_type": "code",
      "source": [
        "def variance_likelyhood(x, n):\n",
        "  weights = []\n",
        "\n",
        "  l_space = np.linspace(0, 1, 99999, endpoint=False)[1:]\n",
        "  log_space = np.log(l_space)\n",
        "\n",
        "  for p in l_space:\n",
        "    lk = np.longdouble(p)**x * np.longdouble(1-p)**(n-x)\n",
        "    weights.append(lk)\n",
        "  \n",
        "  return weighted_variance(log_space, np.array(weights))"
      ],
      "metadata": {
        "id": "p9UjN-AcVPs5"
      },
      "execution_count": null,
      "outputs": []
    },
    {
      "cell_type": "code",
      "source": [
        "def weight(p1, p2):\n",
        "  x = p1 * n_females\n",
        "  y = p2 * n_males\n",
        "\n",
        "  var1 = variance_likelyhood(x, n_females)\n",
        "  var2 = variance_likelyhood(y, n_males)\n",
        "\n",
        "  return 1 / (var1 + var2)"
      ],
      "metadata": {
        "id": "fG4yLuK8TX8h"
      },
      "execution_count": null,
      "outputs": []
    },
    {
      "cell_type": "code",
      "source": [
        "p_females = [0.1933, 0.0739, 0.0123, 0.2407, 0.0417, 0.0265]\n",
        "p_males = [0.1311, 0.1148, 0.0125, 0.1311, 0.0212, 0.0180]\n",
        "\n",
        "weights = np.array([weight(p_females[i], p_males[i]) for i in range(6)])"
      ],
      "metadata": {
        "id": "1FiglmmfubtO"
      },
      "execution_count": null,
      "outputs": []
    },
    {
      "cell_type": "code",
      "source": [
        "c_real = corr(over, her, weights)"
      ],
      "metadata": {
        "id": "PBrxk8dRvjAS"
      },
      "execution_count": null,
      "outputs": []
    },
    {
      "cell_type": "code",
      "source": [
        "more_c = 0\n",
        "n = 10000\n",
        "for i in range(n):\n",
        "  her_rs = random.choice(her, 6, replace=False)\n",
        "  co = corr(over, her_rs, weights)\n",
        "  if co >= c_real:\n",
        "    more_c += 1"
      ],
      "metadata": {
        "id": "O1sH8UxOvc1V"
      },
      "execution_count": null,
      "outputs": []
    },
    {
      "cell_type": "markdown",
      "source": [
        "##### Validation through resampling (weighted)"
      ],
      "metadata": {
        "id": "kE_5-ak-xgWs"
      }
    },
    {
      "cell_type": "markdown",
      "source": [
        "Now I will conduct a more complex test, but which I think is the most rigorous. The method is as follows:\n",
        "1. Establish weights for the different variables based on the expected variance of the error for the OR(log) variable (I will use the inverse of variance)\n",
        "2. Compute the weighted correlation coefficient (Pearson)\n",
        "3. Resample the H variable 10.000 times and compute the weighted corrrelation coeficient\n",
        "4. See how likely it is that the simulated correlation coefficient exceeds the true one and use this result as a p-value"
      ],
      "metadata": {
        "id": "-eH8UWOxAKts"
      }
    },
    {
      "cell_type": "markdown",
      "source": [
        "More on step 1:\n",
        "<br>\n",
        "The variance of errors will be equal to the variance of the likelyhood function given the observation x.\n",
        "<br>\n",
        "$Var(\\epsilon)=Var(L(p|x)-Avg(L(p|x)))=Var(L(p|x))$\n"
      ],
      "metadata": {
        "id": "sk4R1y0nDsCI"
      }
    },
    {
      "cell_type": "code",
      "source": [
        "#@title\n",
        "\n",
        "print(\"Resampling test\")\n",
        "print(f'r: {c_real:.3f}')\n",
        "print(f'one-tailed p value: {more_c/n*100:.2f}%')"
      ],
      "metadata": {
        "colab": {
          "base_uri": "https://localhost:8080/"
        },
        "cellView": "form",
        "id": "knEyUSZTzkB1",
        "outputId": "88d06763-1706-4a04-8ae8-13f6c040880c"
      },
      "execution_count": null,
      "outputs": [
        {
          "output_type": "stream",
          "name": "stdout",
          "text": [
            "Resampling test\n",
            "r: 0.917\n",
            "one-tailed p value: 2.55%\n"
          ]
        }
      ]
    },
    {
      "cell_type": "markdown",
      "source": [
        "#### A fact that might contradict my theory:"
      ],
      "metadata": {
        "id": "3TF6I4qXcRwi"
      }
    },
    {
      "cell_type": "markdown",
      "source": [
        "When I analyzed the relationship between self-employement and mental disorders I found no correlation. I didn't expect this to be the case, as I thought self-employed people would be more creative. \n",
        "<br>\n",
        "However, self-employment didn't seem to be correlated with anything else."
      ],
      "metadata": {
        "id": "uiR8-mrFcgCy"
      }
    },
    {
      "cell_type": "markdown",
      "source": [
        "## III. Acceptance of mental disorders and gender"
      ],
      "metadata": {
        "id": "c_Pwg2DadxlL"
      }
    },
    {
      "cell_type": "code",
      "source": [
        "question_bar_plot_grouped(df_2016, 34, 114, 2016, rot=False, \n",
        "                          sensitivity0=0.0, sensitivity1=0.0,\n",
        "                          below=[\"Diagnosed\", \"Not Diagnosed\"]\n",
        "                          );"
      ],
      "metadata": {
        "colab": {
          "base_uri": "https://localhost:8080/",
          "height": 341
        },
        "id": "pwnO09eZefoW",
        "outputId": "c5f5f61d-c820-439f-d7ba-41a5cda85427"
      },
      "execution_count": null,
      "outputs": [
        {
          "output_type": "display_data",
          "data": {
            "text/plain": [
              "<Figure size 432x288 with 1 Axes>"
            ],
            "image/png": "[encoded data removed]"
          },
          "metadata": {
            "needs_background": "light"
          }
        }
      ]
    },
    {
      "cell_type": "code",
      "source": [
        "question_bar_plot_grouped(df_2016, 2, 114, 2016, rot=False, \n",
        "                          sensitivity0=1.0, sensitivity1=0.0,\n",
        "                          );"
      ],
      "metadata": {
        "colab": {
          "base_uri": "https://localhost:8080/",
          "height": 326
        },
        "id": "QhgpXtYEf7nR",
        "outputId": "f6d75868-27ee-48cd-c001-ade9ef45bda9"
      },
      "execution_count": null,
      "outputs": [
        {
          "output_type": "display_data",
          "data": {
            "text/plain": [
              "<Figure size 432x288 with 1 Axes>"
            ],
            "image/png": "[encoded data removed]"
          },
          "metadata": {
            "needs_background": "light"
          }
        }
      ]
    },
    {
      "cell_type": "code",
      "source": [
        "question_bar_plot_grouped(df_mi_2016, 2, 114, 2016, False,\n",
        "                          sensitivity0=2.0, sensitivity1=0.0,\n",
        "                          additional_info=\"(Only people with a mental disorder)\");"
      ],
      "metadata": {
        "colab": {
          "base_uri": "https://localhost:8080/",
          "height": 341
        },
        "id": "N0fgKpViji16",
        "outputId": "faf60368-5ead-4634-bbf4-db52a46720bc"
      },
      "execution_count": null,
      "outputs": [
        {
          "output_type": "display_data",
          "data": {
            "text/plain": [
              "<Figure size 432x288 with 1 Axes>"
            ],
            "image/png": "[encoded data removed]"
          },
          "metadata": {
            "needs_background": "light"
          }
        }
      ]
    },
    {
      "cell_type": "markdown",
      "source": [
        "We see that diagnosed people are more likely to believe that their colleagues would view them negatively.\n",
        "<br>\n",
        "However, there is also a discrepancy between men and women, with women more likely to think their colleagues would view them negatively.\n",
        "<br>\n",
        "My interpretation is that this is not due to bias. As we see in the third graph, there is a slightly higher proportion of women answering \"Yes they do\". I believe women with mental disorders truly have a harder time being accepted than men, in the same situation."
      ],
      "metadata": {
        "id": "oGax3f63iMsS"
      }
    },
    {
      "cell_type": "markdown",
      "source": [
        "# Cunclusion"
      ],
      "metadata": {
        "id": "Mfp5iQByybZg"
      }
    },
    {
      "cell_type": "markdown",
      "source": [
        "In light of this investigation, I believe that mental disorders and gender interact in ways which are relevant both for gender inclusivity and for neuro-inclusivity. I believe that those two kinds of inclusivity mutualy reinforce each other. Therefore, I think that a more holistic approach to inclusivity is a promising strategy."
      ],
      "metadata": {
        "id": "RTEfXDeoyk3y"
      }
    }
  ]
}